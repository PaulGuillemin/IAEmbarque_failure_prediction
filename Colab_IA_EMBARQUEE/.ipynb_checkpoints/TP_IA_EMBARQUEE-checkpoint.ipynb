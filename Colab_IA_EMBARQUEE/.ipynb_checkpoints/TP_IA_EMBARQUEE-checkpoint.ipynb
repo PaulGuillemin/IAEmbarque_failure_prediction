{
 "cells": [
  {
   "cell_type": "markdown",
   "metadata": {
    "id": "ZLQS0KLMycmb"
   },
   "source": [
    "## **PRACTICAL SESSION 1** — Deep Learning for predictive maintenance"
   ]
  },
  {
   "cell_type": "markdown",
   "metadata": {
    "id": "3mjNAfgj4K1_"
   },
   "source": [
    "The dataset used is the **AI4I 2020** Predictive Maintenance Dataset, which contains 10,000 instances of industrial sensor data. Each instance represents the operating condition of a machine and is associated with a label indicating whether a failure has occurred and, if so, what type of failure it is.\n",
    "\n",
    "The 5 possible labels are:\n",
    "\n",
    "\n",
    "\n",
    "*   **TWF**: Tool Wear Failure\n",
    "*   **HDF**: Heat Dissipation Failure\n",
    "*   **PWF**: Power Failure\n",
    "*   **OSF**: Overstrain Failure\n",
    "*   **RNF**: Random Failure\n",
    "\n",
    "\n",
    "The data is available on eCAMPUS as CSV file called: \"ai4i2020.csv\"\n",
    "\n"
   ]
  },
  {
   "cell_type": "markdown",
   "metadata": {
    "id": "4_LBMVsgRI9W"
   },
   "source": [
    "## **PRACTICAL SESSION Goal** — Ceate a deep leanring model allowing to realize a predictive maintenance mission"
   ]
  },
  {
   "cell_type": "markdown",
   "metadata": {
    "id": "wt7L0p4MbIIw"
   },
   "source": [
    "## **1 - Analysis of the dataset**\n",
    "\n"
   ]
  },
  {
   "cell_type": "markdown",
   "metadata": {
    "id": "0JFIZ6mtRapt"
   },
   "source": [
    "All libraries used ***SHOULD BE PLACED*** in the code cell below"
   ]
  },
  {
   "cell_type": "code",
   "execution_count": 1,
   "metadata": {
    "id": "UQp7FGSb5Vlv"
   },
   "outputs": [],
   "source": [
    "import pandas as pd\n",
    "import matplotlib.pyplot as plt"
   ]
  },
  {
   "cell_type": "markdown",
   "metadata": {
    "id": "eFRcS74MDeSf"
   },
   "source": [
    "**QUESTION:** Load dataset and display some lines of the csv file."
   ]
  },
  {
   "cell_type": "code",
   "execution_count": 2,
   "metadata": {
    "id": "9l044FZ_5-fN"
   },
   "outputs": [
    {
     "name": "stdout",
     "output_type": "stream",
     "text": [
      "   UDI Product ID Type  Air temperature [K]  Process temperature [K]  \\\n",
      "0    1     M14860    M                298.1                    308.6   \n",
      "1    2     L47181    L                298.2                    308.7   \n",
      "2    3     L47182    L                298.1                    308.5   \n",
      "3    4     L47183    L                298.2                    308.6   \n",
      "4    5     L47184    L                298.2                    308.7   \n",
      "\n",
      "   Rotational speed [rpm]  Torque [Nm]  Tool wear [min]  Machine failure  TWF  \\\n",
      "0                    1551         42.8                0                0    0   \n",
      "1                    1408         46.3                3                0    0   \n",
      "2                    1498         49.4                5                0    0   \n",
      "3                    1433         39.5                7                0    0   \n",
      "4                    1408         40.0                9                0    0   \n",
      "\n",
      "   HDF  PWF  OSF  RNF  \n",
      "0    0    0    0    0  \n",
      "1    0    0    0    0  \n",
      "2    0    0    0    0  \n",
      "3    0    0    0    0  \n",
      "4    0    0    0    0  \n"
     ]
    }
   ],
   "source": [
    "df = pd.read_csv('ai4i2020.csv')\n",
    "\n",
    "print(df.head())"
   ]
  },
  {
   "cell_type": "markdown",
   "metadata": {
    "id": "joQOXoqaD8JA"
   },
   "source": [
    "**QUESTION:** Display the distribution of machine failures and non-failures with a bar graph."
   ]
  },
  {
   "cell_type": "code",
   "execution_count": 3,
   "metadata": {
    "id": "r3Q1l9JoMs7m"
   },
   "outputs": [
    {
     "data": {
      "image/png": "[encoded data removed]",
      "text/plain": [
       "<Figure size 600x400 with 1 Axes>"
      ]
     },
     "metadata": {},
     "output_type": "display_data"
    }
   ],
   "source": [
    "failure_counts = df['Machine failure'].value_counts()\n",
    "\n",
    "plt.figure(figsize=(6, 4))\n",
    "failure_counts.plot(kind='bar', color=['skyblue', 'salmon'])\n",
    "plt.title('distribution of machine failures and non-failures')\n",
    "plt.xlabel('failure or non Failure')\n",
    "plt.ylabel('count')\n",
    "plt.show()"
   ]
  },
  {
   "cell_type": "markdown",
   "metadata": {
    "id": "vCNIqXVyEkrR"
   },
   "source": [
    "**ANALYSIS QUESTION:** What do you observe?"
   ]
  },
  {
   "cell_type": "markdown",
   "metadata": {
    "id": "6BMGtlIWE-C0"
   },
   "source": [
    "We have a class imbalance issue, as we have 10,000 machines that are functioning correctly and fewer than 500 machines that are not functioning."
   ]
  },
  {
   "cell_type": "markdown",
   "metadata": {
    "id": "huU5I4x8SzlN"
   },
   "source": [
    "**ANALYSIS QUESTION:** What will be the consequence of this phenomenon on the model's learning?"
   ]
  },
  {
   "cell_type": "markdown",
   "metadata": {
    "id": "JHmYROP0TLIS"
   },
   "source": [
    "We are going to have a bias toward the majority class. This may lead to a model that is very good at predicting functioning machines but poorly at identifying failures."
   ]
  },
  {
   "cell_type": "markdown",
   "metadata": {
    "id": "0s-mzCCsSasl"
   },
   "source": [
    "**QUESTION:** Create a bar chart showing the distribution of different failure types (TWF, HDF, PWF, OSF, RNF). Display the exact values above each bar in the chart.\""
   ]
  },
  {
   "cell_type": "code",
   "execution_count": 4,
   "metadata": {
    "id": "nQyJCfamMdJN"
   },
   "outputs": [
    {
     "name": "stderr",
     "output_type": "stream",
     "text": [
      "/var/folders/1t/5696w2xn2vsdwdq75jywx2sc0000gq/T/ipykernel_72200/2064144671.py:11: FutureWarning: Series.__getitem__ treating keys as positions is deprecated. In a future version, integer keys will always be treated as labels (consistent with DataFrame behavior). To access a value by position, use `ser.iloc[pos]`\n",
      "  ax.text(i, failure_counts[i] + 10, str(failure_counts[i]), ha='center', va='bottom', fontsize=12)\n"
     ]
    },
    {
     "data": {
      "image/png": "[encoded data removed]",
      "text/plain": [
       "<Figure size 640x480 with 1 Axes>"
      ]
     },
     "metadata": {},
     "output_type": "display_data"
    }
   ],
   "source": [
    "failure_types = ['TWF', 'HDF', 'PWF', 'OSF', 'RNF']\n",
    "failure_counts = df[failure_types].sum()\n",
    "\n",
    "ax = failure_counts.plot(kind='bar', color=['skyblue', 'lightgreen', 'lightcoral', 'orange', 'purple'])\n",
    "\n",
    "plt.title('Distribution of Different Failure Types')\n",
    "plt.xlabel('Failure Type')\n",
    "plt.ylabel('Count')\n",
    "\n",
    "for i in range(len(failure_counts)):\n",
    "    ax.text(i, failure_counts[i] + 10, str(failure_counts[i]), ha='center', va='bottom', fontsize=12)\n",
    "\n",
    "plt.xticks(rotation=0)\n",
    "plt.show()"
   ]
  },
  {
   "cell_type": "markdown",
   "metadata": {
    "id": "NXyHa73yU8g_"
   },
   "source": [
    "**ANALYSIS QUESTION:** What do you observe?"
   ]
  },
  {
   "cell_type": "markdown",
   "metadata": {
    "id": "WRDFE_dsVBBU"
   },
   "source": [
    "We have some features like RNF and TWF classes that hasn't a lot of examples "
   ]
  },
  {
   "cell_type": "markdown",
   "metadata": {
    "id": "cvaO2bEIMxLd"
   },
   "source": [
    "**QUESTION:** Create a bar chart showing the distribution of failure types (TWF, HDF, PWF, OSF, RNF) among machines that experienced a failure (Machine failure == 1). Additionally, add a \"No Specific Failure\" category to count cases where a machine failed but no specific failure type was recorded. Display the exact values above each bar in the chart.\""
   ]
  },
  {
   "cell_type": "code",
   "execution_count": 5,
   "metadata": {
    "id": "e97htGyyMsle"
   },
   "outputs": [
    {
     "name": "stderr",
     "output_type": "stream",
     "text": [
      "/var/folders/1t/5696w2xn2vsdwdq75jywx2sc0000gq/T/ipykernel_72200/3714694363.py:22: FutureWarning: Series.__getitem__ treating keys as positions is deprecated. In a future version, integer keys will always be treated as labels (consistent with DataFrame behavior). To access a value by position, use `ser.iloc[pos]`\n",
      "  ax.text(i, failure_counts[i] + 2, str(failure_counts[i]), ha='center', va='bottom', fontsize=12)\n"
     ]
    },
    {
     "data": {
      "image/png": "[encoded data removed]",
      "text/plain": [
       "<Figure size 800x500 with 1 Axes>"
      ]
     },
     "metadata": {},
     "output_type": "display_data"
    }
   ],
   "source": [
    "failed_machines = df[df['Machine failure'] == 1]\n",
    "\n",
    "# Count the occurrences of each failure type for machines that failed\n",
    "failure_types = ['TWF', 'HDF', 'PWF', 'OSF', 'RNF']\n",
    "failure_counts = failed_machines[failure_types].sum()\n",
    "\n",
    "# Add a \"No Specific Failure\" category for cases where no failure type is recorded\n",
    "no_specific_failure = (failed_machines[failure_types] == 0).all(axis=1).sum()\n",
    "failure_counts['No Specific Failure'] = no_specific_failure\n",
    "\n",
    "# Create the bar chart\n",
    "plt.figure(figsize=(8, 5))\n",
    "ax = failure_counts.plot(kind='bar', color=['skyblue', 'lightgreen', 'lightcoral', 'orange', 'purple', 'gray'])\n",
    "\n",
    "# Add the title and labels\n",
    "plt.title('Distribution of Failure Types Among Machines That Experienced a Failure')\n",
    "plt.xlabel('Failure Type')\n",
    "plt.ylabel('Count')\n",
    "\n",
    "# Display the values above each bar\n",
    "for i in range(len(failure_counts)):\n",
    "    ax.text(i, failure_counts[i] + 2, str(failure_counts[i]), ha='center', va='bottom', fontsize=12)\n",
    "\n",
    "# Show the chart\n",
    "plt.xticks(rotation=0)\n",
    "plt.show()"
   ]
  },
  {
   "cell_type": "markdown",
   "metadata": {
    "id": "U6_3vAQCOUGb"
   },
   "source": [
    "**ANALYSIS QUESTION:** What do you obsrve comapred to the previous question ? What can you conclude?"
   ]
  },
  {
   "cell_type": "markdown",
   "metadata": {
    "id": "i-6t7nqlOjMo"
   },
   "source": [
    "\"Write your response here\""
   ]
  },
  {
   "cell_type": "markdown",
   "metadata": {
    "id": "muXeS0eVVW6H"
   },
   "source": [
    "**QUESTION:** Display the names of the different columns in the dataset with their respective data types."
   ]
  },
  {
   "cell_type": "code",
   "execution_count": 6,
   "metadata": {
    "id": "pa9Tptu7nPMp"
   },
   "outputs": [
    {
     "name": "stdout",
     "output_type": "stream",
     "text": [
      "UDI                          int64\n",
      "Product ID                  object\n",
      "Type                        object\n",
      "Air temperature [K]        float64\n",
      "Process temperature [K]    float64\n",
      "Rotational speed [rpm]       int64\n",
      "Torque [Nm]                float64\n",
      "Tool wear [min]              int64\n",
      "Machine failure              int64\n",
      "TWF                          int64\n",
      "HDF                          int64\n",
      "PWF                          int64\n",
      "OSF                          int64\n",
      "RNF                          int64\n",
      "dtype: object\n"
     ]
    }
   ],
   "source": [
    "print(df.dtypes)"
   ]
  },
  {
   "cell_type": "markdown",
   "metadata": {
    "id": "cezua1bMVTCM"
   },
   "source": [
    "**ANALYSIS QUESTION:** To train the model, what will be the inputs and outputs (What are the names of the columns that you will use?)? Justify your response.\n",
    "Remember, you want to predict if the machine will fail, and if so, what kind of failure. You need to yse previous results to jsurtify your response."
   ]
  },
  {
   "cell_type": "markdown",
   "metadata": {
    "id": "0gy8oDgxbjol"
   },
   "source": [
    "### Inputs (X):\n",
    "\n",
    "- **Air temperature [K]**: The air temperature is a relevant operating condition that could impact the machine's functioning\n",
    "- **Process temperature [K]**: Similar to the air temperature, the process temperature could affect machine health.\n",
    "- **Rotational speed [rpm]**: The rotational speed could indicate how hard the machine is working and if it is approaching failure.\n",
    "- **Torque [Nm]**: Torque is another indicator of machine stress and can influence failure risk.\n",
    "- **Tool wear [min]**: The amount of tool wear is critical in predicting failures, especially for tool wear failure (TWF), as wear increases with usage.\n",
    "\n",
    "### Outputs (y):\n",
    "The output labels should indicate whether a failure occurred and what type of failure it is. The following columns are the target variables for the model:\n",
    "\n",
    "- **Machine failure**: This binary column (1 for failure, 0 for no failure) is essential to predict whether the machine will fail. It tells us if there was a failure or not.\n",
    "- **TWF, HDF, PWF, OSF, RNF**: These columns represent the different types of failures:\n",
    "  - **TWF**: Tool Wear Failure\n",
    "  - **HDF**: Heat Dissipation Failure\n",
    "  - **PWF**: Power Failure\n",
    "  - **OSF**: Overstrain Failure\n",
    "  - **RNF**: Random Failure"
   ]
  },
  {
   "cell_type": "markdown",
   "metadata": {
    "id": "CFXLkBzTiafx"
   },
   "source": [
    "## **2- Train model Without balancing the dataset**\n",
    "\n",
    "---\n",
    "\n"
   ]
  },
  {
   "cell_type": "markdown",
   "metadata": {
    "id": "plBeUOCKvVNU"
   },
   "source": [
    "In this section, you must build and train a model without rebalancing the dataset."
   ]
  },
  {
   "cell_type": "markdown",
   "metadata": {
    "id": "yj7CMqdVbxg2"
   },
   "source": [
    "**QUESTION:** Create X_train, Y_train, X_test, and Y_test. How many elements are present in X_train, Y_train, X_test, and Y_test? (Print the values)"
   ]
  },
  {
   "cell_type": "code",
   "execution_count": 7,
   "metadata": {
    "id": "Wdght-L8wQQQ"
   },
   "outputs": [
    {
     "ename": "KeyError",
     "evalue": "\"['rad/s', 'Power'] not found in axis\"",
     "output_type": "error",
     "traceback": [
      "\u001b[0;31m---------------------------------------------------------------------------\u001b[0m",
      "\u001b[0;31mKeyError\u001b[0m                                  Traceback (most recent call last)",
      "Cell \u001b[0;32mIn[7], line 1\u001b[0m\n\u001b[0;32m----> 1\u001b[0m X \u001b[38;5;241m=\u001b[39m \u001b[43mdf\u001b[49m\u001b[38;5;241;43m.\u001b[39;49m\u001b[43mdrop\u001b[49m\u001b[43m(\u001b[49m\u001b[43m[\u001b[49m\u001b[38;5;124;43m'\u001b[39;49m\u001b[38;5;124;43mTWF\u001b[39;49m\u001b[38;5;124;43m'\u001b[39;49m\u001b[43m,\u001b[49m\u001b[43m \u001b[49m\u001b[38;5;124;43m'\u001b[39;49m\u001b[38;5;124;43mHDF\u001b[39;49m\u001b[38;5;124;43m'\u001b[39;49m\u001b[43m,\u001b[49m\u001b[43m \u001b[49m\u001b[38;5;124;43m'\u001b[39;49m\u001b[38;5;124;43mPWF\u001b[39;49m\u001b[38;5;124;43m'\u001b[39;49m\u001b[43m,\u001b[49m\u001b[43m \u001b[49m\u001b[38;5;124;43m'\u001b[39;49m\u001b[38;5;124;43mOSF\u001b[39;49m\u001b[38;5;124;43m'\u001b[39;49m\u001b[43m,\u001b[49m\u001b[43m \u001b[49m\u001b[38;5;124;43m'\u001b[39;49m\u001b[38;5;124;43mRNF\u001b[39;49m\u001b[38;5;124;43m'\u001b[39;49m\u001b[43m,\u001b[49m\u001b[43m \u001b[49m\u001b[38;5;124;43m'\u001b[39;49m\u001b[38;5;124;43mrad/s\u001b[39;49m\u001b[38;5;124;43m'\u001b[39;49m\u001b[43m,\u001b[49m\u001b[43m \u001b[49m\u001b[38;5;124;43m'\u001b[39;49m\u001b[38;5;124;43mPower\u001b[39;49m\u001b[38;5;124;43m'\u001b[39;49m\u001b[43m,\u001b[49m\u001b[43m \u001b[49m\u001b[38;5;124;43m'\u001b[39;49m\u001b[38;5;124;43mMachine failure\u001b[39;49m\u001b[38;5;124;43m'\u001b[39;49m\u001b[43m]\u001b[49m\u001b[43m,\u001b[49m\u001b[43m \u001b[49m\u001b[43maxis\u001b[49m\u001b[38;5;241;43m=\u001b[39;49m\u001b[38;5;241;43m1\u001b[39;49m\u001b[43m)\u001b[49m\n\u001b[1;32m      4\u001b[0m y \u001b[38;5;241m=\u001b[39m df[\u001b[38;5;124m'\u001b[39m\u001b[38;5;124mMachine failure\u001b[39m\u001b[38;5;124m'\u001b[39m]\u001b[38;5;241m.\u001b[39mvalues \n\u001b[1;32m      7\u001b[0m train_X, test_X, train_y, test_y \u001b[38;5;241m=\u001b[39m train_test_split(X, y, train_size\u001b[38;5;241m=\u001b[39m\u001b[38;5;241m0.80\u001b[39m, random_state\u001b[38;5;241m=\u001b[39m\u001b[38;5;241m42\u001b[39m)\n",
      "File \u001b[0;32m/usr/local/lib/python3.11/site-packages/pandas/core/frame.py:5347\u001b[0m, in \u001b[0;36mDataFrame.drop\u001b[0;34m(self, labels, axis, index, columns, level, inplace, errors)\u001b[0m\n\u001b[1;32m   5199\u001b[0m \u001b[38;5;28;01mdef\u001b[39;00m \u001b[38;5;21mdrop\u001b[39m(\n\u001b[1;32m   5200\u001b[0m     \u001b[38;5;28mself\u001b[39m,\n\u001b[1;32m   5201\u001b[0m     labels: IndexLabel \u001b[38;5;241m|\u001b[39m \u001b[38;5;28;01mNone\u001b[39;00m \u001b[38;5;241m=\u001b[39m \u001b[38;5;28;01mNone\u001b[39;00m,\n\u001b[0;32m   (...)\u001b[0m\n\u001b[1;32m   5208\u001b[0m     errors: IgnoreRaise \u001b[38;5;241m=\u001b[39m \u001b[38;5;124m\"\u001b[39m\u001b[38;5;124mraise\u001b[39m\u001b[38;5;124m\"\u001b[39m,\n\u001b[1;32m   5209\u001b[0m ) \u001b[38;5;241m-\u001b[39m\u001b[38;5;241m>\u001b[39m DataFrame \u001b[38;5;241m|\u001b[39m \u001b[38;5;28;01mNone\u001b[39;00m:\n\u001b[1;32m   5210\u001b[0m \u001b[38;5;250m    \u001b[39m\u001b[38;5;124;03m\"\"\"\u001b[39;00m\n\u001b[1;32m   5211\u001b[0m \u001b[38;5;124;03m    Drop specified labels from rows or columns.\u001b[39;00m\n\u001b[1;32m   5212\u001b[0m \n\u001b[0;32m   (...)\u001b[0m\n\u001b[1;32m   5345\u001b[0m \u001b[38;5;124;03m            weight  1.0     0.8\u001b[39;00m\n\u001b[1;32m   5346\u001b[0m \u001b[38;5;124;03m    \"\"\"\u001b[39;00m\n\u001b[0;32m-> 5347\u001b[0m     \u001b[38;5;28;01mreturn\u001b[39;00m \u001b[38;5;28;43msuper\u001b[39;49m\u001b[43m(\u001b[49m\u001b[43m)\u001b[49m\u001b[38;5;241;43m.\u001b[39;49m\u001b[43mdrop\u001b[49m\u001b[43m(\u001b[49m\n\u001b[1;32m   5348\u001b[0m \u001b[43m        \u001b[49m\u001b[43mlabels\u001b[49m\u001b[38;5;241;43m=\u001b[39;49m\u001b[43mlabels\u001b[49m\u001b[43m,\u001b[49m\n\u001b[1;32m   5349\u001b[0m \u001b[43m        \u001b[49m\u001b[43maxis\u001b[49m\u001b[38;5;241;43m=\u001b[39;49m\u001b[43maxis\u001b[49m\u001b[43m,\u001b[49m\n\u001b[1;32m   5350\u001b[0m \u001b[43m        \u001b[49m\u001b[43mindex\u001b[49m\u001b[38;5;241;43m=\u001b[39;49m\u001b[43mindex\u001b[49m\u001b[43m,\u001b[49m\n\u001b[1;32m   5351\u001b[0m \u001b[43m        \u001b[49m\u001b[43mcolumns\u001b[49m\u001b[38;5;241;43m=\u001b[39;49m\u001b[43mcolumns\u001b[49m\u001b[43m,\u001b[49m\n\u001b[1;32m   5352\u001b[0m \u001b[43m        \u001b[49m\u001b[43mlevel\u001b[49m\u001b[38;5;241;43m=\u001b[39;49m\u001b[43mlevel\u001b[49m\u001b[43m,\u001b[49m\n\u001b[1;32m   5353\u001b[0m \u001b[43m        \u001b[49m\u001b[43minplace\u001b[49m\u001b[38;5;241;43m=\u001b[39;49m\u001b[43minplace\u001b[49m\u001b[43m,\u001b[49m\n\u001b[1;32m   5354\u001b[0m \u001b[43m        \u001b[49m\u001b[43merrors\u001b[49m\u001b[38;5;241;43m=\u001b[39;49m\u001b[43merrors\u001b[49m\u001b[43m,\u001b[49m\n\u001b[1;32m   5355\u001b[0m \u001b[43m    \u001b[49m\u001b[43m)\u001b[49m\n",
      "File \u001b[0;32m/usr/local/lib/python3.11/site-packages/pandas/core/generic.py:4711\u001b[0m, in \u001b[0;36mNDFrame.drop\u001b[0;34m(self, labels, axis, index, columns, level, inplace, errors)\u001b[0m\n\u001b[1;32m   4709\u001b[0m \u001b[38;5;28;01mfor\u001b[39;00m axis, labels \u001b[38;5;129;01min\u001b[39;00m axes\u001b[38;5;241m.\u001b[39mitems():\n\u001b[1;32m   4710\u001b[0m     \u001b[38;5;28;01mif\u001b[39;00m labels \u001b[38;5;129;01mis\u001b[39;00m \u001b[38;5;129;01mnot\u001b[39;00m \u001b[38;5;28;01mNone\u001b[39;00m:\n\u001b[0;32m-> 4711\u001b[0m         obj \u001b[38;5;241m=\u001b[39m \u001b[43mobj\u001b[49m\u001b[38;5;241;43m.\u001b[39;49m\u001b[43m_drop_axis\u001b[49m\u001b[43m(\u001b[49m\u001b[43mlabels\u001b[49m\u001b[43m,\u001b[49m\u001b[43m \u001b[49m\u001b[43maxis\u001b[49m\u001b[43m,\u001b[49m\u001b[43m \u001b[49m\u001b[43mlevel\u001b[49m\u001b[38;5;241;43m=\u001b[39;49m\u001b[43mlevel\u001b[49m\u001b[43m,\u001b[49m\u001b[43m \u001b[49m\u001b[43merrors\u001b[49m\u001b[38;5;241;43m=\u001b[39;49m\u001b[43merrors\u001b[49m\u001b[43m)\u001b[49m\n\u001b[1;32m   4713\u001b[0m \u001b[38;5;28;01mif\u001b[39;00m inplace:\n\u001b[1;32m   4714\u001b[0m     \u001b[38;5;28mself\u001b[39m\u001b[38;5;241m.\u001b[39m_update_inplace(obj)\n",
      "File \u001b[0;32m/usr/local/lib/python3.11/site-packages/pandas/core/generic.py:4753\u001b[0m, in \u001b[0;36mNDFrame._drop_axis\u001b[0;34m(self, labels, axis, level, errors, only_slice)\u001b[0m\n\u001b[1;32m   4751\u001b[0m         new_axis \u001b[38;5;241m=\u001b[39m axis\u001b[38;5;241m.\u001b[39mdrop(labels, level\u001b[38;5;241m=\u001b[39mlevel, errors\u001b[38;5;241m=\u001b[39merrors)\n\u001b[1;32m   4752\u001b[0m     \u001b[38;5;28;01melse\u001b[39;00m:\n\u001b[0;32m-> 4753\u001b[0m         new_axis \u001b[38;5;241m=\u001b[39m \u001b[43maxis\u001b[49m\u001b[38;5;241;43m.\u001b[39;49m\u001b[43mdrop\u001b[49m\u001b[43m(\u001b[49m\u001b[43mlabels\u001b[49m\u001b[43m,\u001b[49m\u001b[43m \u001b[49m\u001b[43merrors\u001b[49m\u001b[38;5;241;43m=\u001b[39;49m\u001b[43merrors\u001b[49m\u001b[43m)\u001b[49m\n\u001b[1;32m   4754\u001b[0m     indexer \u001b[38;5;241m=\u001b[39m axis\u001b[38;5;241m.\u001b[39mget_indexer(new_axis)\n\u001b[1;32m   4756\u001b[0m \u001b[38;5;66;03m# Case for non-unique axis\u001b[39;00m\n\u001b[1;32m   4757\u001b[0m \u001b[38;5;28;01melse\u001b[39;00m:\n",
      "File \u001b[0;32m/usr/local/lib/python3.11/site-packages/pandas/core/indexes/base.py:6992\u001b[0m, in \u001b[0;36mIndex.drop\u001b[0;34m(self, labels, errors)\u001b[0m\n\u001b[1;32m   6990\u001b[0m \u001b[38;5;28;01mif\u001b[39;00m mask\u001b[38;5;241m.\u001b[39many():\n\u001b[1;32m   6991\u001b[0m     \u001b[38;5;28;01mif\u001b[39;00m errors \u001b[38;5;241m!=\u001b[39m \u001b[38;5;124m\"\u001b[39m\u001b[38;5;124mignore\u001b[39m\u001b[38;5;124m\"\u001b[39m:\n\u001b[0;32m-> 6992\u001b[0m         \u001b[38;5;28;01mraise\u001b[39;00m \u001b[38;5;167;01mKeyError\u001b[39;00m(\u001b[38;5;124mf\u001b[39m\u001b[38;5;124m\"\u001b[39m\u001b[38;5;132;01m{\u001b[39;00mlabels[mask]\u001b[38;5;241m.\u001b[39mtolist()\u001b[38;5;132;01m}\u001b[39;00m\u001b[38;5;124m not found in axis\u001b[39m\u001b[38;5;124m\"\u001b[39m)\n\u001b[1;32m   6993\u001b[0m     indexer \u001b[38;5;241m=\u001b[39m indexer[\u001b[38;5;241m~\u001b[39mmask]\n\u001b[1;32m   6994\u001b[0m \u001b[38;5;28;01mreturn\u001b[39;00m \u001b[38;5;28mself\u001b[39m\u001b[38;5;241m.\u001b[39mdelete(indexer)\n",
      "\u001b[0;31mKeyError\u001b[0m: \"['rad/s', 'Power'] not found in axis\""
     ]
    }
   ],
   "source": [
    "X = df.drop(['TWF', 'HDF', 'PWF', 'OSF', 'RNF', 'rad/s', 'Power', 'Machine failure'], axis=1)\n",
    "\n",
    "\n",
    "y = df['Machine failure'].values \n",
    "\n",
    "\n",
    "train_X, test_X, train_y, test_y = train_test_split(X, y, train_size=0.80, random_state=42)\n",
    "\n",
    "print('Training Variables Shape:', train_X.shape)\n",
    "print('Training Target Shape:', train_y.shape)\n",
    "print('Testing Variables Shape:', test_X.shape)\n",
    "print('Testing Target Shape:', test_y.shape)"
   ]
  },
  {
   "cell_type": "markdown",
   "metadata": {
    "id": "eqBuZsqKdQ7u"
   },
   "source": [
    "**QUESTION** Code below the model architecture"
   ]
  },
  {
   "cell_type": "code",
   "execution_count": null,
   "metadata": {
    "id": "F35j0VRDdNLc"
   },
   "outputs": [],
   "source": [
    "from sklearn.linear_model import LogisticRegression \n",
    "log_reg = LogisticRegression(max_iter=1000)\n",
    "\n"
   ]
  },
  {
   "cell_type": "markdown",
   "metadata": {
    "id": "dIONoP2Jdg8Q"
   },
   "source": [
    "**QUESTION** Code below the algorithms allowing to train model\n",
    "\n",
    "**WARNING!** You need to plot the training and test accuracy and loss to check if our model is overfitting"
   ]
  },
  {
   "cell_type": "code",
   "execution_count": null,
   "metadata": {
    "id": "jJ2bYxZydhW2"
   },
   "outputs": [],
   "source": [
    "log_reg.fit(X_train, Y_train)\n",
    "\n",
    "train_accuracy = accuracy_score(Y_train, log_reg.predict(X_train))\n",
    "test_accuracy = accuracy_score(Y_test, log_reg.predict(X_test))\n",
    "\n",
    "plt.figure(figsize=(12, 6))\n",
    "\n",
    "plt.subplot(1, 2, 1)\n",
    "plt.bar(['Train Accuracy', 'Test Accuracy'], [train_accuracy, test_accuracy])\n",
    "plt.title('Training and Testing Accuracy')\n",
    "plt.xlabel('Dataset')\n",
    "plt.ylabel('Accuracy')\n",
    "\n",
    "# Loss plot (using log loss for illustration)\n",
    "from sklearn.metrics import log_loss\n",
    "train_loss = log_loss(Y_train, log_reg.predict_proba(X_train))\n",
    "test_loss = log_loss(Y_test, log_reg.predict_proba(X_test))\n",
    "\n",
    "plt.subplot(1, 2, 2)\n",
    "plt.bar(['Train Loss', 'Test Loss'], [train_loss, test_loss])\n",
    "plt.title('Training and Testing Loss')\n",
    "plt.xlabel('Dataset')\n",
    "plt.ylabel('Log Loss')\n",
    "\n",
    "plt.tight_layout()\n",
    "plt.show()"
   ]
  },
  {
   "cell_type": "markdown",
   "metadata": {
    "id": "yvmyHnqYpbf-"
   },
   "source": [
    "**QUESTION** Plot the confusion matrix and the classification report"
   ]
  },
  {
   "cell_type": "markdown",
   "metadata": {
    "id": "FUXSeJ1ZpsSP"
   },
   "source": [
    "**Tips:**\n",
    "\n",
    "*   classification report link\n",
    "\n",
    "> https://scikit-learn.org/stable/modules/generated/sklearn.metrics.classification_report.html\n",
    "\n",
    "*   Matrix confusion\n",
    "\n",
    "> https://scikit-learn.org/stable/modules/generated/sklearn.metrics.ConfusionMatrixDisplay.html\n",
    "\n",
    "\n",
    "\n"
   ]
  },
  {
   "cell_type": "code",
   "execution_count": null,
   "metadata": {
    "id": "m4q5wvHNnAdu"
   },
   "outputs": [],
   "source": []
  },
  {
   "cell_type": "markdown",
   "metadata": {
    "id": "ImGsmryGkKhj"
   },
   "source": [
    "**ANALYSIS QUESTION** What do you observe? What can you conclude?"
   ]
  },
  {
   "cell_type": "markdown",
   "metadata": {
    "id": "y1f5OneQknZy"
   },
   "source": [
    "\"Write your response here\""
   ]
  },
  {
   "cell_type": "markdown",
   "metadata": {
    "id": "EYUyUAN5ji0x"
   },
   "source": [
    "## **3- Train model With balancing the dataset**\n",
    "\n",
    "---"
   ]
  },
  {
   "cell_type": "markdown",
   "metadata": {
    "id": "EQWut50JhKdD"
   },
   "source": [
    " Methods for rebalancing a dataset:\n",
    "\n",
    "\n",
    "*   Use oversampling techniques (e.g., SMOTE) to generate synthetic data for minority classes\n",
    "\n",
    "\n",
    "> https://imbalanced-learn.org/stable/references/generated/imblearn.over_sampling.SMOTE.html\n",
    "\n",
    "\n",
    "\n",
    "*   Apply undersampling techniques (e.g., random undersampling, Tomek Links, Edited Nearest Neighbors) to reduce the majority class size\n",
    "\n",
    "\n",
    "\n",
    "> https://imbalanced-learn.org/stable/references/generated/imblearn.under_sampling.RandomUnderSampler.html\n",
    "\n",
    "\n",
    "\n",
    "*   Use class weighting during model training to penalize errors on minority classes\n",
    "\n",
    "\n",
    "\n",
    "> https://www.tensorflow.org/tutorials/structured_data/imbalanced_data?hl=fr\n"
   ]
  },
  {
   "cell_type": "markdown",
   "metadata": {
    "id": "--pWJzaUnXdY"
   },
   "source": [
    "**QUESTION:** Create X_train, Y_train, X_test, and Y_test. How many elements are present in X_train, Y_train, X_test, and Y_test? (Print the values)"
   ]
  },
  {
   "cell_type": "code",
   "execution_count": null,
   "metadata": {
    "id": "aLW74cwbdr1U"
   },
   "outputs": [],
   "source": []
  },
  {
   "cell_type": "markdown",
   "metadata": {
    "id": "-YcZXIadnbcm"
   },
   "source": [
    "**ANALYSIS QUESTION:** Explain the choices you made to balance the dataset."
   ]
  },
  {
   "cell_type": "markdown",
   "metadata": {
    "id": "Rku3pnWxnxhI"
   },
   "source": [
    "\"Write your response here\""
   ]
  },
  {
   "cell_type": "markdown",
   "metadata": {
    "id": "BVryPCQFn4Dd"
   },
   "source": [
    "**QUESTION:** Code below the model architecture\n"
   ]
  },
  {
   "cell_type": "markdown",
   "metadata": {
    "id": "Q5BGfI7TpVDD"
   },
   "source": [
    "**TIP:** It could be interesting to keep it the same as before"
   ]
  },
  {
   "cell_type": "code",
   "execution_count": null,
   "metadata": {
    "id": "S0UbMHN6OC51"
   },
   "outputs": [],
   "source": []
  },
  {
   "cell_type": "markdown",
   "metadata": {
    "id": "wBZyS7DdofFq"
   },
   "source": [
    "**QUESTION** Code below the algorithms allowing to train model\n"
   ]
  },
  {
   "cell_type": "code",
   "execution_count": null,
   "metadata": {
    "id": "my6Ck5JbMDOG"
   },
   "outputs": [],
   "source": []
  },
  {
   "cell_type": "markdown",
   "metadata": {
    "id": "77ftkfv5oqp0"
   },
   "source": [
    "**QUESTION** Plot the confusion matrix and the classification report"
   ]
  },
  {
   "cell_type": "code",
   "execution_count": null,
   "metadata": {
    "id": "kRmkOI_co5d9"
   },
   "outputs": [],
   "source": []
  },
  {
   "cell_type": "markdown",
   "metadata": {
    "id": "Zn5BBAI3pHXf"
   },
   "source": [
    "**ANALYSIS QUESTION** What do you observe? What can you conclude?"
   ]
  },
  {
   "cell_type": "markdown",
   "metadata": {
    "id": "SIf8rfU9pIGd"
   },
   "source": [
    "\"Write your response here\""
   ]
  }
 ],
 "metadata": {
  "colab": {
   "provenance": []
  },
  "kernelspec": {
   "display_name": "Python 3 (ipykernel)",
   "language": "python",
   "name": "python3"
  },
  "language_info": {
   "codemirror_mode": {
    "name": "ipython",
    "version": 3
   },
   "file_extension": ".py",
   "mimetype": "text/x-python",
   "name": "python",
   "nbconvert_exporter": "python",
   "pygments_lexer": "ipython3",
   "version": "3.11.7"
  }
 },
 "nbformat": 4,
 "nbformat_minor": 4
}
